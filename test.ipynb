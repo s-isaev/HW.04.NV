{
 "cells": [
  {
   "cell_type": "code",
   "execution_count": 1,
   "metadata": {},
   "outputs": [],
   "source": [
    "from config import ProcessConfig\n",
    "config = ProcessConfig(\n",
    "    datapath=\"/mnt/d/HSE/DLA/HW.03.TTS\",\n",
    "    batch_size=3,\n",
    "    device='cuda',\n",
    "    hidden = 64,\n",
    "    n_res_blocks = 1,\n",
    "    n_res_subblocks = 1,\n",
    "    len_res_subblock = 1\n",
    ")"
   ]
  },
  {
   "cell_type": "code",
   "execution_count": 2,
   "metadata": {},
   "outputs": [],
   "source": [
    "from traineval import train_checkpoint\n",
    "train_checkpoint(config, steps=1000)"
   ]
  }
 ],
 "metadata": {
  "interpreter": {
   "hash": "31f2aee4e71d21fbe5cf8b01ff0e069b9275f58929596ceb00d14d90e3e16cd6"
  },
  "kernelspec": {
   "display_name": "Python 3.8.10 64-bit",
   "language": "python",
   "name": "python3"
  },
  "language_info": {
   "codemirror_mode": {
    "name": "ipython",
    "version": 3
   },
   "file_extension": ".py",
   "mimetype": "text/x-python",
   "name": "python",
   "nbconvert_exporter": "python",
   "pygments_lexer": "ipython3",
   "version": "3.8.10"
  },
  "orig_nbformat": 4
 },
 "nbformat": 4,
 "nbformat_minor": 2
}
