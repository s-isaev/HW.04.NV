{
 "cells": [
  {
   "cell_type": "code",
   "execution_count": 1,
   "metadata": {},
   "outputs": [],
   "source": [
    "from config import ProcessConfig\n",
    "config = ProcessConfig(\n",
    "    datapath=\"/mnt/d/HSE/DLA/HW.03.TTS\",\n",
    "    batch_size=3,\n",
    "    device='cuda',\n",
    "    hidden = 64,\n",
    "    n_res_blocks = 1,\n",
    "    n_res_subblocks = 1,\n",
    "    len_res_subblock = 1,\n",
    "    infer_path=\"infer/\"\n",
    ")"
   ]
  },
  {
   "cell_type": "code",
   "execution_count": 2,
   "metadata": {},
   "outputs": [],
   "source": [
    "#from traineval import infer\n",
    "#from dataset import MelSpectrogramConfig, MelSpectrogram, LJSpeechDataset, LJSpeechCollator\n",
    "\n",
    "#featurizer = MelSpectrogram(MelSpectrogramConfig()).to(config.device)\n",
    "#infer(config, None, None, featurizer)"
   ]
  },
  {
   "cell_type": "code",
   "execution_count": 3,
   "metadata": {},
   "outputs": [
    {
     "name": "stderr",
     "output_type": "stream",
     "text": [
      "  2%|▏         | 100/4367 [01:55<1:38:16,  1.38s/it]"
     ]
    },
    {
     "name": "stdout",
     "output_type": "stream",
     "text": [
      "Step: 100 Generator loss: 125.84449722290039 Disc loss: 1.3739089512825011 \n"
     ]
    },
    {
     "name": "stderr",
     "output_type": "stream",
     "text": [
      "  3%|▎         | 136/4367 [02:39<1:29:16,  1.27s/it]"
     ]
    }
   ],
   "source": [
    "from traineval import train_checkpoint, train\n",
    "# train_checkpoint(config, steps=1000)\n",
    "train(config)"
   ]
  }
 ],
 "metadata": {
  "interpreter": {
   "hash": "31f2aee4e71d21fbe5cf8b01ff0e069b9275f58929596ceb00d14d90e3e16cd6"
  },
  "kernelspec": {
   "display_name": "Python 3.8.10 64-bit",
   "language": "python",
   "name": "python3"
  },
  "language_info": {
   "codemirror_mode": {
    "name": "ipython",
    "version": 3
   },
   "file_extension": ".py",
   "mimetype": "text/x-python",
   "name": "python",
   "nbconvert_exporter": "python",
   "pygments_lexer": "ipython3",
   "version": "3.8.10"
  },
  "orig_nbformat": 4
 },
 "nbformat": 4,
 "nbformat_minor": 2
}
