{
 "cells": [
  {
   "cell_type": "code",
   "execution_count": 1,
   "metadata": {},
   "outputs": [],
   "source": [
    "from config import ProcessConfig\n",
    "config = ProcessConfig(\n",
    "    datapath=\"/mnt/d/HSE/DLA/HW.03.TTS\",\n",
    "    batch_size=3,\n",
    "    device='cuda',\n",
    "    hidden = 256,\n",
    "    n_res_blocks = 1,\n",
    "    n_res_subblocks = 1,\n",
    "    len_res_subblock = 1,\n",
    "    infer_path=\"infer/\",\n",
    "    project=\"hfg_local\",\n",
    "    entity=\"s_isaev\",\n",
    "    model_path='models'\n",
    ")"
   ]
  },
  {
   "cell_type": "code",
   "execution_count": 2,
   "metadata": {},
   "outputs": [
    {
     "data": {
      "text/plain": [
       "<All keys matched successfully>"
      ]
     },
     "execution_count": 2,
     "metadata": {},
     "output_type": "execute_result"
    }
   ],
   "source": [
    "import torch\n",
    "from traineval import prepare_model_loader_losses\n",
    "_, featulizer, generator, _, _, _ = prepare_model_loader_losses(config, ignore_dataset=True)\n",
    "from google_drive_downloader import GoogleDriveDownloader as gdd\n",
    "\n",
    "! rm model.pth\n",
    "gdd.download_file_from_google_drive(\n",
    "    file_id='1V4_3maoNRF9HaErTyGpy03mlEIOY18Os',\n",
    "    dest_path='./model.pth'\n",
    ")\n",
    "generator.load_state_dict(torch.load('model.pth'))"
   ]
  },
  {
   "cell_type": "code",
   "execution_count": 3,
   "metadata": {},
   "outputs": [],
   "source": [
    "from traineval import infer\n",
    "infer(config, generator, 'result', featulizer)"
   ]
  }
 ],
 "metadata": {
  "interpreter": {
   "hash": "31f2aee4e71d21fbe5cf8b01ff0e069b9275f58929596ceb00d14d90e3e16cd6"
  },
  "kernelspec": {
   "display_name": "Python 3.8.10 64-bit",
   "language": "python",
   "name": "python3"
  },
  "language_info": {
   "codemirror_mode": {
    "name": "ipython",
    "version": 3
   },
   "file_extension": ".py",
   "mimetype": "text/x-python",
   "name": "python",
   "nbconvert_exporter": "python",
   "pygments_lexer": "ipython3",
   "version": "3.8.10"
  },
  "orig_nbformat": 4
 },
 "nbformat": 4,
 "nbformat_minor": 2
}
